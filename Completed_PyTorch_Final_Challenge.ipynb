{
  "nbformat": 4,
  "nbformat_minor": 0,
  "metadata": {
    "colab": {
      "name": "Completed PyTorch_Final_Challenge.ipynb",
      "version": "0.3.2",
      "provenance": [],
      "collapsed_sections": []
    },
    "kernelspec": {
      "name": "python3",
      "display_name": "Python 3"
    },
    "accelerator": "GPU"
  },
  "cells": [
    {
      "metadata": {
        "id": "qbI81RDe0qq-",
        "colab_type": "code",
        "colab": {}
      },
      "cell_type": "code",
      "source": [
        "#import shutil\n",
        "\n",
        "#shutil.rmtree('./flower_data')\n"
      ],
      "execution_count": 0,
      "outputs": []
    },
    {
      "metadata": {
        "id": "KCWx_60eof_T",
        "colab_type": "code",
        "outputId": "19bdcbef-a649-453f-9d25-9990c069f878",
        "colab": {
          "base_uri": "https://localhost:8080/",
          "height": 34
        }
      },
      "cell_type": "code",
      "source": [
        "# Installing Required Packages\n",
        "\n",
        "'''\n",
        "!pip install torch\n",
        "!pip install torchvision\n",
        "!pip install requests\n",
        "'''"
      ],
      "execution_count": 57,
      "outputs": [
        {
          "output_type": "execute_result",
          "data": {
            "text/plain": [
              "'\\n!pip install torch\\n!pip install torchvision\\n!pip install requests\\n'"
            ]
          },
          "metadata": {
            "tags": []
          },
          "execution_count": 57
        }
      ]
    },
    {
      "metadata": {
        "id": "T2gOC6eKorg_",
        "colab_type": "code",
        "colab": {}
      },
      "cell_type": "code",
      "source": [
        "# Importing Packages\n",
        "\n",
        "import os\n",
        "import torch\n",
        "import torchvision\n",
        "from torchvision import transforms, datasets\n",
        "import numpy as np\n",
        "import torch.nn as nn\n",
        "import torch.nn.functional as F\n"
      ],
      "execution_count": 0,
      "outputs": []
    },
    {
      "metadata": {
        "id": "RjqeNloEorkm",
        "colab_type": "code",
        "outputId": "baaad6e4-b043-4b3c-aa03-48ddd9ee7186",
        "colab": {
          "base_uri": "https://localhost:8080/",
          "height": 119
        }
      },
      "cell_type": "code",
      "source": [
        "# Data Transformation\n",
        "\n",
        "data_transform = transforms.Compose([\n",
        "    #transforms.RandomResizedCrop(224),\n",
        "    transforms.CenterCrop(500),\n",
        "    #transforms.RandomHorizontalFlip(),\n",
        "    transforms.Resize(224),\n",
        "    transforms.ToTensor(),\n",
        "    transforms.Normalize(mean=[0.485,0.456,0.4406], std=[0.229,0.224,0.225])\n",
        "])\n",
        "\n",
        "data_transform"
      ],
      "execution_count": 0,
      "outputs": [
        {
          "output_type": "execute_result",
          "data": {
            "text/plain": [
              "Compose(\n",
              "    CenterCrop(size=(500, 500))\n",
              "    Resize(size=224, interpolation=PIL.Image.BILINEAR)\n",
              "    ToTensor()\n",
              "    Normalize(mean=[0.485, 0.456, 0.4406], std=[0.229, 0.224, 0.225])\n",
              ")"
            ]
          },
          "metadata": {
            "tags": []
          },
          "execution_count": 3
        }
      ]
    },
    {
      "metadata": {
        "id": "kZU52Kxe6IQH",
        "colab_type": "code",
        "outputId": "d1d5f5cc-c399-49aa-b747-4c3169b70cd9",
        "colab": {
          "base_uri": "https://localhost:8080/",
          "height": 34
        }
      },
      "cell_type": "code",
      "source": [
        "# Downloading Data Set\n",
        "\n",
        "import requests, zipfile, io\n",
        "\n",
        "r = requests.get('https://s3.amazonaws.com/content.udacity-data.com/courses/nd188/flower_data.zip')\n",
        "z = zipfile.ZipFile(io.BytesIO(r.content))\n",
        "z.extractall()\n",
        "\n",
        "print('Done')"
      ],
      "execution_count": 0,
      "outputs": [
        {
          "output_type": "stream",
          "text": [
            "Done\n"
          ],
          "name": "stdout"
        }
      ]
    },
    {
      "metadata": {
        "id": "LULbnSsUor0J",
        "colab_type": "code",
        "colab": {}
      },
      "cell_type": "code",
      "source": [
        "# Loading images and creating labels\n",
        "\n",
        "data_dir = './flower_data/'\n",
        "train_dir = os.path.join(data_dir, 'train/') \n",
        "test_dir = os.path.join(data_dir, 'valid/') \n",
        "\n",
        "train_data = datasets.ImageFolder(train_dir, transform = data_transform) \n",
        "test_data = datasets.ImageFolder(test_dir, transform = data_transform) \n"
      ],
      "execution_count": 0,
      "outputs": []
    },
    {
      "metadata": {
        "id": "TD6bw2O7or9_",
        "colab_type": "code",
        "outputId": "e10fc955-a78f-447a-8dfb-4b70ef0eca2e",
        "colab": {
          "base_uri": "https://localhost:8080/",
          "height": 51
        }
      },
      "cell_type": "code",
      "source": [
        "print('No of training images', len(train_data))\n",
        "print('No of testing images', len(test_data))"
      ],
      "execution_count": 22,
      "outputs": [
        {
          "output_type": "stream",
          "text": [
            "No of training images 6552\n",
            "No of testing images 818\n"
          ],
          "name": "stdout"
        }
      ]
    },
    {
      "metadata": {
        "id": "oUVW9jR8osSc",
        "colab_type": "code",
        "colab": {}
      },
      "cell_type": "code",
      "source": [
        "# Load the data\n",
        "\n",
        "train_loader = torch.utils.data.DataLoader(train_data, batch_size=200, shuffle=True)\n",
        "test_loader = torch.utils.data.DataLoader(test_data, batch_size=200, shuffle=True)"
      ],
      "execution_count": 0,
      "outputs": []
    },
    {
      "metadata": {
        "id": "Bigo4r1losad",
        "colab_type": "code",
        "colab": {}
      },
      "cell_type": "code",
      "source": [
        "# Load pre-train model\n",
        "\n",
        "model = torchvision.models.resnet18(pretrained=True)\n",
        "#model = torchvision.models.resnet152(pretrained=True)\n",
        "\n",
        "# Reset Gradient\n",
        "\n",
        "for param in model.parameters():\n",
        "  param.requires_grad = False  "
      ],
      "execution_count": 0,
      "outputs": []
    },
    {
      "metadata": {
        "id": "LRi4XbtBospJ",
        "colab_type": "code",
        "outputId": "f3edfaa2-1d57-4dd2-ca44-5338614c74a3",
        "colab": {
          "base_uri": "https://localhost:8080/",
          "height": 34
        }
      },
      "cell_type": "code",
      "source": [
        "\n",
        "# No.of neurons in last layers\n",
        "\n",
        "num_features = model.fc.in_features\n",
        "num_features\n"
      ],
      "execution_count": 36,
      "outputs": [
        {
          "output_type": "execute_result",
          "data": {
            "text/plain": [
              "512"
            ]
          },
          "metadata": {
            "tags": []
          },
          "execution_count": 36
        }
      ]
    },
    {
      "metadata": {
        "id": "YiDsWq1qosuR",
        "colab_type": "code",
        "colab": {}
      },
      "cell_type": "code",
      "source": [
        "# Building Model Architecture\n",
        "\n",
        "class PSC(nn.Module):\n",
        "  def __init__(self):\n",
        "    super(PSC, self).__init__()\n",
        "    self.fc1 = nn.Linear(in_features = num_features, out_features=256)\n",
        "    self.dropout = nn.Dropout(0.25)\n",
        "    self.fc2 = nn.Linear(in_features = 256, out_features=64)\n",
        "    self.fc3 = nn.Linear(in_features = 64, out_features=256)\n",
        "    self.fc4 = nn.Linear(in_features = 256, out_features=102)\n",
        "    \n",
        "  def forward(self, x):\n",
        "    x = F.relu(self.fc1(x))\n",
        "    x = self.dropout(x)\n",
        "    x = F.relu(self.fc2(x))\n",
        "    x = F.relu(self.fc3(x))\n",
        "    x = self.fc4(x)\n",
        "    return x\n",
        "    "
      ],
      "execution_count": 0,
      "outputs": []
    },
    {
      "metadata": {
        "id": "0ghQd4Lsosyz",
        "colab_type": "code",
        "colab": {}
      },
      "cell_type": "code",
      "source": [
        "model.fc = PSC()\n",
        "\n",
        "#model.load_state_dict(torch.load('pr_model.pt'), strict=False) #SFSAver10\n",
        "torch.save(model.state_dict(), 'pr_model.pt')\n",
        "#torch.save({'state_dict': model.state_dict()}, 'checkpoint.pth.tar')"
      ],
      "execution_count": 0,
      "outputs": []
    },
    {
      "metadata": {
        "id": "5SQGB8R-os3R",
        "colab_type": "code",
        "colab": {}
      },
      "cell_type": "code",
      "source": [
        "# Define Loss and Optimizer\n",
        "\n",
        "loss_fn = torch.nn.CrossEntropyLoss()\n",
        "\n",
        "#loss_fn = torch.nn.NLLLoss()\n",
        "optimizer = torch.optim.Adam(model.parameters())\n"
      ],
      "execution_count": 0,
      "outputs": []
    },
    {
      "metadata": {
        "id": "X304E7eVO30V",
        "colab_type": "code",
        "outputId": "35528eda-f3a2-48a2-c0b2-df9dd4904c84",
        "colab": {
          "base_uri": "https://localhost:8080/",
          "height": 34
        }
      },
      "cell_type": "code",
      "source": [
        "'''\n",
        "!pip install Pillow==4.1.1\n",
        "!pip install PIL\n",
        "!pip install image\n",
        "\n",
        "from PIL import *\n",
        "\n",
        "'''"
      ],
      "execution_count": 58,
      "outputs": [
        {
          "output_type": "execute_result",
          "data": {
            "text/plain": [
              "'\\n!pip install Pillow==4.1.1\\n!pip install PIL\\n!pip install image\\n\\nfrom PIL import *\\n\\n'"
            ]
          },
          "metadata": {
            "tags": []
          },
          "execution_count": 58
        }
      ]
    },
    {
      "metadata": {
        "id": "iqGZzR8ejKxi",
        "colab_type": "code",
        "outputId": "16e3b7ca-5bba-4f93-d7b4-e38ff4c7be2a",
        "colab": {
          "base_uri": "https://localhost:8080/",
          "height": 34
        }
      },
      "cell_type": "code",
      "source": [
        "# Verify GPU availability\n",
        "\n",
        "torch.cuda.is_available()"
      ],
      "execution_count": 42,
      "outputs": [
        {
          "output_type": "execute_result",
          "data": {
            "text/plain": [
              "True"
            ]
          },
          "metadata": {
            "tags": []
          },
          "execution_count": 42
        }
      ]
    },
    {
      "metadata": {
        "id": "CdGO49KPosnC",
        "colab_type": "code",
        "outputId": "85b3635a-ce3d-4d62-df19-098ee503febd",
        "colab": {
          "base_uri": "https://localhost:8080/",
          "height": 2057
        }
      },
      "cell_type": "code",
      "source": [
        "# Training Final Model\n",
        "\n",
        "n_epochs=30\n",
        "accuracy_val = 0.0\n",
        "\n",
        "for epoch in range(1, n_epochs+1):\n",
        "  train_loss = 0.0\n",
        "  \n",
        "  for batch_i, (data, target) in enumerate(train_loader):\n",
        "    \n",
        "    if torch.cuda.is_available():\n",
        "      data, target, model = data.cuda(), target.cuda(), model.cuda()\n",
        "              \n",
        "    output = model(data)\n",
        "    loss = loss_fn(output, target)\n",
        "    train_loss +=loss.item()\n",
        "    optimizer.zero_grad()\n",
        "    loss.backward()\n",
        "    optimizer.step()  \n",
        "   \n",
        "    \n",
        "    if batch_i % 20 == 15:\n",
        "      print(\"Epoch: {}  Batch: {} loss: {}\".format(epoch, batch_i, train_loss/20))\n",
        "      \n",
        "      train_loss = 0.0\n",
        "      model.eval()\n",
        "      total_correct = 0\n",
        "      total = 0\n",
        "      max_avg_output = torch.argmax(output, dim=1)\n",
        "      \n",
        "      for number in range(len(data)):\n",
        "        correct = max_avg_output[number] == target[number]\n",
        "        total_correct += torch.Tensor.cpu(correct).numpy()\n",
        "        total += 1\n",
        "        \n",
        "      print('Correct: ', total_correct)\n",
        "      print('Total: ', total)\n",
        "      acc = (total_correct/total)\n",
        "      print('Training Accuracy: ', acc)\n",
        "      \n",
        "      if acc > accuracy_val:\n",
        "        torch.save({'state_dict': model.state_dict()}, 'checkpoint.pth.tar')\n",
        "        accuracy_val = acc\n",
        "        \n",
        "      model.train()\n",
        "      \n"
      ],
      "execution_count": 43,
      "outputs": [
        {
          "output_type": "stream",
          "text": [
            "Epoch: 1  Batch: 15 loss: 3.6036813497543334\n",
            "Correct:  22\n",
            "Total:  200\n",
            "Training Accuracy:  0.11\n",
            "Epoch: 2  Batch: 15 loss: 2.4376044631004334\n",
            "Correct:  62\n",
            "Total:  200\n",
            "Training Accuracy:  0.31\n",
            "Epoch: 3  Batch: 15 loss: 1.4426110506057739\n",
            "Correct:  118\n",
            "Total:  200\n",
            "Training Accuracy:  0.59\n",
            "Epoch: 4  Batch: 15 loss: 1.0304762601852417\n",
            "Correct:  141\n",
            "Total:  200\n",
            "Training Accuracy:  0.705\n",
            "Epoch: 5  Batch: 15 loss: 0.8245095998048783\n",
            "Correct:  151\n",
            "Total:  200\n",
            "Training Accuracy:  0.755\n",
            "Epoch: 6  Batch: 15 loss: 0.6871590554714203\n",
            "Correct:  144\n",
            "Total:  200\n",
            "Training Accuracy:  0.72\n",
            "Epoch: 7  Batch: 15 loss: 0.581581249833107\n",
            "Correct:  163\n",
            "Total:  200\n",
            "Training Accuracy:  0.815\n",
            "Epoch: 8  Batch: 15 loss: 0.49911018311977384\n",
            "Correct:  167\n",
            "Total:  200\n",
            "Training Accuracy:  0.835\n",
            "Epoch: 9  Batch: 15 loss: 0.47403434216976165\n",
            "Correct:  174\n",
            "Total:  200\n",
            "Training Accuracy:  0.87\n",
            "Epoch: 10  Batch: 15 loss: 0.41163163632154465\n",
            "Correct:  173\n",
            "Total:  200\n",
            "Training Accuracy:  0.865\n",
            "Epoch: 11  Batch: 15 loss: 0.36254439800977706\n",
            "Correct:  174\n",
            "Total:  200\n",
            "Training Accuracy:  0.87\n",
            "Epoch: 12  Batch: 15 loss: 0.32825208753347396\n",
            "Correct:  177\n",
            "Total:  200\n",
            "Training Accuracy:  0.885\n",
            "Epoch: 13  Batch: 15 loss: 0.30452325791120527\n",
            "Correct:  169\n",
            "Total:  200\n",
            "Training Accuracy:  0.845\n",
            "Epoch: 14  Batch: 15 loss: 0.2628424733877182\n",
            "Correct:  185\n",
            "Total:  200\n",
            "Training Accuracy:  0.925\n",
            "Epoch: 15  Batch: 15 loss: 0.2426012225449085\n",
            "Correct:  176\n",
            "Total:  200\n",
            "Training Accuracy:  0.88\n",
            "Epoch: 16  Batch: 15 loss: 0.23073857575654982\n",
            "Correct:  183\n",
            "Total:  200\n",
            "Training Accuracy:  0.915\n",
            "Epoch: 17  Batch: 15 loss: 0.21286832988262178\n",
            "Correct:  186\n",
            "Total:  200\n",
            "Training Accuracy:  0.93\n",
            "Epoch: 18  Batch: 15 loss: 0.1944765642285347\n",
            "Correct:  185\n",
            "Total:  200\n",
            "Training Accuracy:  0.925\n",
            "Epoch: 19  Batch: 15 loss: 0.1903807170689106\n",
            "Correct:  183\n",
            "Total:  200\n",
            "Training Accuracy:  0.915\n",
            "Epoch: 20  Batch: 15 loss: 0.1670489154756069\n",
            "Correct:  193\n",
            "Total:  200\n",
            "Training Accuracy:  0.965\n",
            "Epoch: 21  Batch: 15 loss: 0.15075084939599037\n",
            "Correct:  194\n",
            "Total:  200\n",
            "Training Accuracy:  0.97\n",
            "Epoch: 22  Batch: 15 loss: 0.14483667463064193\n",
            "Correct:  194\n",
            "Total:  200\n",
            "Training Accuracy:  0.97\n",
            "Epoch: 23  Batch: 15 loss: 0.12337719202041626\n",
            "Correct:  188\n",
            "Total:  200\n",
            "Training Accuracy:  0.94\n",
            "Epoch: 24  Batch: 15 loss: 0.12836726643145085\n",
            "Correct:  186\n",
            "Total:  200\n",
            "Training Accuracy:  0.93\n",
            "Epoch: 25  Batch: 15 loss: 0.12116274759173393\n",
            "Correct:  191\n",
            "Total:  200\n",
            "Training Accuracy:  0.955\n",
            "Epoch: 26  Batch: 15 loss: 0.1078590415418148\n",
            "Correct:  194\n",
            "Total:  200\n",
            "Training Accuracy:  0.97\n",
            "Epoch: 27  Batch: 15 loss: 0.10943082571029664\n",
            "Correct:  190\n",
            "Total:  200\n",
            "Training Accuracy:  0.95\n",
            "Epoch: 28  Batch: 15 loss: 0.09710118137300014\n",
            "Correct:  194\n",
            "Total:  200\n",
            "Training Accuracy:  0.97\n",
            "Epoch: 29  Batch: 15 loss: 0.09169485494494438\n",
            "Correct:  192\n",
            "Total:  200\n",
            "Training Accuracy:  0.96\n",
            "Epoch: 30  Batch: 15 loss: 0.09196434915065765\n",
            "Correct:  193\n",
            "Total:  200\n",
            "Training Accuracy:  0.965\n"
          ],
          "name": "stdout"
        }
      ]
    },
    {
      "metadata": {
        "id": "wt5AaghOJtNi",
        "colab_type": "code",
        "colab": {}
      },
      "cell_type": "code",
      "source": [
        "torch.save({'state_dict': model.state_dict()}, 'checkpoint_final.pth.tar')"
      ],
      "execution_count": 0,
      "outputs": []
    },
    {
      "metadata": {
        "id": "-hOebXwXEPKg",
        "colab_type": "code",
        "colab": {}
      },
      "cell_type": "code",
      "source": [
        "torch.save({'state_dict': model.state_dict()}, 'checkpoint_final.pt')"
      ],
      "execution_count": 0,
      "outputs": []
    },
    {
      "metadata": {
        "id": "3RES3V1qH8rw",
        "colab_type": "code",
        "colab": {}
      },
      "cell_type": "code",
      "source": [
        "torch.save(model.state_dict(), 'checkpoint_final_v1.pt')"
      ],
      "execution_count": 0,
      "outputs": []
    },
    {
      "metadata": {
        "id": "yICz5rJRH8zJ",
        "colab_type": "code",
        "colab": {
          "base_uri": "https://localhost:8080/",
          "height": 136
        },
        "outputId": "7d18a37a-4eb6-47c0-a503-27fd28ab173b"
      },
      "cell_type": "code",
      "source": [
        "model"
      ],
      "execution_count": 52,
      "outputs": [
        {
          "output_type": "execute_result",
          "data": {
            "text/plain": [
              "PSC(\n",
              "  (fc1): Linear(in_features=512, out_features=256, bias=True)\n",
              "  (dropout): Dropout(p=0.25)\n",
              "  (fc2): Linear(in_features=256, out_features=64, bias=True)\n",
              "  (fc3): Linear(in_features=64, out_features=256, bias=True)\n",
              "  (fc4): Linear(in_features=256, out_features=102, bias=True)\n",
              ")"
            ]
          },
          "metadata": {
            "tags": []
          },
          "execution_count": 52
        }
      ]
    },
    {
      "metadata": {
        "id": "Yttkzz0jYf26",
        "colab_type": "code",
        "colab": {}
      },
      "cell_type": "code",
      "source": [
        ""
      ],
      "execution_count": 0,
      "outputs": []
    },
    {
      "metadata": {
        "id": "28mk0DxxYgB_",
        "colab_type": "code",
        "colab": {}
      },
      "cell_type": "code",
      "source": [
        "# Final Submission"
      ],
      "execution_count": 0,
      "outputs": []
    },
    {
      "metadata": {
        "id": "nTXVf0B-bxYe",
        "colab_type": "code",
        "colab": {}
      },
      "cell_type": "code",
      "source": [
        "\n",
        "\n",
        "class PSC(nn.Module):    \n",
        "      def __init__(self):            \n",
        "            super().__init__()\n",
        "            self.fc1 = nn.Linear(in_features=512, out_features=256)\n",
        "            self.dropout = nn.Dropout(0.25)\n",
        "            self.fc2 = nn.Linear(in_features = 256, out_features=64)\n",
        "            self.fc3 = nn.Linear(in_features = 64, out_features=256)\n",
        "            self.fc4 = nn.Linear(in_features = 256, out_features=102)\n",
        "    \n",
        "      def forward(self, x):\n",
        "            x = F.relu(self.fc1(x))\n",
        "            x = self.dropout(x)\n",
        "            x = F.relu(self.fc2(x))\n",
        "            x = F.relu(self.fc3(x))\n",
        "            x = self.fc4(x)\n",
        "            return x\n",
        "\n",
        "\n",
        "model = torchvision.models.resnet18(pretrained=True)\n",
        "\n",
        "\n",
        "model.fc = PSC()\n",
        "\n",
        "checkpoint = torch.load('checkpoint_final.pt', map_location='cpu')\n",
        "model.load_state_dict(checkpoint['state_dict'], strict=False)"
      ],
      "execution_count": 0,
      "outputs": []
    },
    {
      "metadata": {
        "id": "LDkiWF3BvTiS",
        "colab_type": "code",
        "colab": {}
      },
      "cell_type": "code",
      "source": [
        "# Load your model to this variable\n",
        "#model = torch.load('PyTorch_model.pt', map_location='cpu')\n",
        "   \n",
        "# If you used something other than 224x224 cropped images, set the correct size here\n",
        "image_size = 224\n",
        "# Values you used for normalizing the images. Default here are for \n",
        "# pretrained models from torchvision.\n",
        "norm_mean = [0.485, 0.456, 0.406]\n",
        "norm_std = [0.229, 0.224, 0.225]"
      ],
      "execution_count": 0,
      "outputs": []
    },
    {
      "metadata": {
        "id": "GChHiWejbor1",
        "colab_type": "code",
        "colab": {}
      },
      "cell_type": "code",
      "source": [
        "from collections import namedtuple\n",
        "from torch import nn\n",
        "\n",
        "\n",
        "def test_model(model1, criterion=nn.NLLLoss, image_size=224):\n",
        "    Tester = namedtuple('Tester', ['model1', 'criterion', 'image_size'])\n",
        "    return Tester(model1, criterion, image_size)\n",
        "  \n",
        "test_model(model1, criterion=nn.NLLLoss, image_size=224)"
      ],
      "execution_count": 0,
      "outputs": []
    },
    {
      "metadata": {
        "id": "iPBuxHh9vTf3",
        "colab_type": "code",
        "colab": {}
      },
      "cell_type": "code",
      "source": [
        ""
      ],
      "execution_count": 0,
      "outputs": []
    },
    {
      "metadata": {
        "id": "lgwHjH0zvTch",
        "colab_type": "code",
        "colab": {}
      },
      "cell_type": "code",
      "source": [
        ""
      ],
      "execution_count": 0,
      "outputs": []
    }
  ]
}